{
 "cells": [
  {
   "cell_type": "markdown",
   "id": "74e53d56",
   "metadata": {},
   "source": [
    "## Hyperparameters\n",
    "\n",
    "The hyperparameters added are at the bottom of the notebook, after the code. This is my final project paper and all the tweaks I've tried to make are part of the analysis"
   ]
  },
  {
   "cell_type": "code",
   "execution_count": 2,
   "id": "45173ebd",
   "metadata": {},
   "outputs": [],
   "source": [
    "# Library imports\n",
    "import math\n",
    "import random\n",
    "import numpy as np\n",
    "import pandas as pd\n",
    "import matplotlib.pyplot as plt\n",
    "import matplotlib.gridspec as gridspec\n",
    "import pennylane as qml"
   ]
  },
  {
   "cell_type": "code",
   "execution_count": 1,
   "id": "51871ea7",
   "metadata": {},
   "outputs": [],
   "source": [
    "# Pytorch imports\n",
    "import torch\n",
    "import torch.nn as nn\n",
    "import torch.optim as optim\n",
    "import torchvision\n",
    "import torchvision.transforms as transforms\n",
    "from torch.utils.data import Dataset, DataLoader"
   ]
  },
  {
   "cell_type": "code",
   "execution_count": 3,
   "id": "23cbc8ba",
   "metadata": {},
   "outputs": [],
   "source": [
    "seed = 42\n",
    "torch.manual_seed(seed)\n",
    "np.random.seed(seed)\n",
    "random.seed(seed)"
   ]
  },
  {
   "cell_type": "code",
   "execution_count": 4,
   "id": "16c78e37",
   "metadata": {},
   "outputs": [],
   "source": [
    "class DigitsDataset(Dataset):\n",
    "    \"\"\"Pytorch dataloader for the Optical Recognition of Handwritten Digits Data Set\"\"\"\n",
    "\n",
    "    def __init__(self, csv_file, label=0, transform=None):\n",
    "        \"\"\"\n",
    "        Args:\n",
    "            csv_file (string): Path to the csv file with annotations.\n",
    "            root_dir (string): Directory with all the images.\n",
    "            transform (callable, optional): Optional transform to be applied\n",
    "                on a sample.\n",
    "        \"\"\"\n",
    "        self.csv_file = csv_file\n",
    "        self.transform = transform\n",
    "        self.df = self.filter_by_label(label)\n",
    "\n",
    "    def filter_by_label(self, label):\n",
    "        # Use pandas to return a dataframe of only zeros\n",
    "        df = pd.read_csv(self.csv_file)\n",
    "        df = df.loc[df.iloc[:, -1] == label]\n",
    "        return df\n",
    "\n",
    "    def __len__(self):\n",
    "        return len(self.df)\n",
    "\n",
    "    def __getitem__(self, idx):\n",
    "        if torch.is_tensor(idx):\n",
    "            idx = idx.tolist()\n",
    "\n",
    "        image = self.df.iloc[idx, :-1] / 16\n",
    "        image = np.array(image)\n",
    "        image = image.astype(np.float32).reshape(8, 8)\n",
    "\n",
    "        if self.transform:\n",
    "            image = self.transform(image)\n",
    "\n",
    "        # Return image and label\n",
    "        return image, 0"
   ]
  },
  {
   "cell_type": "code",
   "execution_count": 5,
   "id": "e9146f00",
   "metadata": {},
   "outputs": [],
   "source": [
    "image_size = 8  # Height / width of the square images\n",
    "batch_size = 1\n",
    "\n",
    "transform = transforms.Compose([transforms.ToTensor()])\n",
    "dataset = DigitsDataset(csv_file=\"quantum_gans/optdigits.tra\", transform=transform)\n",
    "dataloader = torch.utils.data.DataLoader(\n",
    "    dataset, batch_size=batch_size, shuffle=True, drop_last=True\n",
    ")"
   ]
  },
  {
   "cell_type": "markdown",
   "id": "4295cc54",
   "metadata": {},
   "source": [
    "## Visualization\n",
    "\n"
   ]
  },
  {
   "cell_type": "code",
   "execution_count": 6,
   "id": "191effa9",
   "metadata": {},
   "outputs": [
    {
     "data": {
      "image/png": "[encoded data removed]",
      "text/plain": [
       "<Figure size 576x144 with 8 Axes>"
      ]
     },
     "metadata": {
      "needs_background": "light"
     },
     "output_type": "display_data"
    }
   ],
   "source": [
    "plt.figure(figsize=(8,2))\n",
    "\n",
    "for i in range(8):\n",
    "    image = dataset[i][0].reshape(image_size,image_size)\n",
    "    plt.subplot(1,8,i+1)\n",
    "    plt.axis('off')\n",
    "    plt.imshow(image.numpy(), cmap='gray')\n",
    "\n",
    "plt.show()"
   ]
  },
  {
   "cell_type": "code",
   "execution_count": 7,
   "id": "3716e3a8",
   "metadata": {},
   "outputs": [],
   "source": [
    "class Discriminator(nn.Module):\n",
    "    \"\"\"Fully connected classical discriminator\"\"\"\n",
    "\n",
    "    def __init__(self):\n",
    "        super().__init__()\n",
    "\n",
    "        self.model = nn.Sequential(\n",
    "            # Inputs to first hidden layer (num_input_features -> 64)\n",
    "            nn.Linear(image_size * image_size, 64),\n",
    "            nn.ReLU(),\n",
    "            # First hidden layer (64 -> 16)\n",
    "            nn.Linear(64, 16),\n",
    "            nn.ReLU(),\n",
    "            # Second hidden layer (16 -> output)\n",
    "            nn.Linear(16, 1),\n",
    "            nn.Sigmoid(),\n",
    "        )\n",
    "\n",
    "    def forward(self, x):\n",
    "        return self.model(x)"
   ]
  },
  {
   "cell_type": "code",
   "execution_count": 43,
   "id": "c61fcb2b",
   "metadata": {},
   "outputs": [],
   "source": [
    "# Quantum variables\n",
    "n_qubits = 5  # Total number of qubits / N\n",
    "n_a_qubits = 1  # Number of ancillary qubits / N_A\n",
    "q_depth = 6  # Depth of the parameterised quantum circuit / D\n",
    "n_generators = 4  # Number of subgenerators for the patch method / N_G"
   ]
  },
  {
   "cell_type": "code",
   "execution_count": 44,
   "id": "1f551b47",
   "metadata": {},
   "outputs": [],
   "source": [
    "# Quantum simulator\n",
    "dev = qml.device(\"lightning.qubit\", wires=n_qubits)\n",
    "# Enable CUDA device if available\n",
    "device = torch.device(\"cuda:0\" if torch.cuda.is_available() else \"cpu\")"
   ]
  },
  {
   "cell_type": "code",
   "execution_count": 45,
   "id": "f87f1b5d",
   "metadata": {},
   "outputs": [],
   "source": [
    "@qml.qnode(dev, interface=\"torch\", diff_method=\"parameter-shift\")\n",
    "def quantum_circuit(noise, weights):\n",
    "\n",
    "    weights = weights.reshape(q_depth, n_qubits, 2)\n",
    "\n",
    "    # Initialise latent vectors\n",
    "    for i in range(n_qubits):\n",
    "        qml.RX(noise[i], wires=i)\n",
    "\n",
    "    # Repeated layer\n",
    "    for i in range(q_depth):\n",
    "        # Control Z gates\n",
    "        for y in range(n_qubits - 1):\n",
    "            qml.CZ(wires=[y, y + 1])\n",
    "        qml.CZ(wires=[n_qubits - 1, 0])\n",
    "        \n",
    "        # Parameterised layer\n",
    "        for y in range(n_qubits):\n",
    "            qml.RY(weights[i][y][0], wires=y)\n",
    "            qml.RZ(weights[i][y][1], wires=y)\n",
    "\n",
    "    return qml.probs(wires=list(range(n_qubits)))\n",
    "\n",
    "\n",
    "# For further info on how the non-linear transform is implemented in Pennylane\n",
    "# https://discuss.pennylane.ai/t/ancillary-subsystem-measurement-then-trace-out/1532\n",
    "def partial_measure(noise, weights):\n",
    "    # Non-linear Transform\n",
    "    probs = quantum_circuit(noise, weights)\n",
    "    probsgiven0 = probs[: (2 ** (n_qubits - n_a_qubits))]\n",
    "    probsgiven0 /= torch.sum(probs)\n",
    "\n",
    "    # Post-Processing\n",
    "    probsgiven = probsgiven0 / torch.max(probsgiven0)\n",
    "    return probsgiven"
   ]
  },
  {
   "cell_type": "code",
   "execution_count": 46,
   "id": "47b4bc67",
   "metadata": {},
   "outputs": [],
   "source": [
    "class PatchQuantumGenerator(nn.Module):\n",
    "    \"\"\"Quantum generator class for the patch method\"\"\"\n",
    "\n",
    "    def __init__(self, n_generators, q_delta=1):\n",
    "        \"\"\"\n",
    "        Args:\n",
    "            n_generators (int): Number of sub-generators to be used in the patch method.\n",
    "            q_delta (float, optional): Spread of the random distribution for parameter initialisation.\n",
    "        \"\"\"\n",
    "\n",
    "        super().__init__()\n",
    "\n",
    "        self.q_params = nn.ParameterList(\n",
    "            [\n",
    "                nn.Parameter(q_delta * torch.rand(q_depth * n_qubits * 2), requires_grad=True)\n",
    "                for _ in range(n_generators)\n",
    "            ]\n",
    "        )\n",
    "        self.n_generators = n_generators\n",
    "\n",
    "    def forward(self, x):\n",
    "        # Size of each sub-generator output\n",
    "        patch_size = 2 ** (n_qubits - n_a_qubits)\n",
    "\n",
    "        # Create a Tensor to 'catch' a batch of images from the for loop. x.size(0) is the batch size.\n",
    "        images = torch.Tensor(x.size(0), 0).to(device)\n",
    "\n",
    "        # Iterate over all sub-generators\n",
    "        for params in self.q_params:\n",
    "\n",
    "            # Create a Tensor to 'catch' a batch of the patches from a single sub-generator\n",
    "            patches = torch.Tensor(0, patch_size).to(device)\n",
    "            for elem in x:\n",
    "                q_out = partial_measure(elem, params).float().unsqueeze(0)\n",
    "                patches = torch.cat((patches, q_out))\n",
    "\n",
    "            # Each batch of patches is concatenated with each other to create a batch of images\n",
    "            images = torch.cat((images, patches), 1)\n",
    "\n",
    "        return images"
   ]
  },
  {
   "cell_type": "code",
   "execution_count": 47,
   "id": "eebce7ef",
   "metadata": {},
   "outputs": [],
   "source": [
    "lrG = 0.25 # Learning rate for the generator\n",
    "lrD = 0.01 # Learning rate for the discriminator\n",
    "num_iter = 500  # Number of training iterations"
   ]
  },
  {
   "cell_type": "code",
   "execution_count": 51,
   "id": "6f792d8a",
   "metadata": {},
   "outputs": [
    {
     "name": "stdout",
     "output_type": "stream",
     "text": [
      "Iteration: 10, Discriminator Loss: 1.353, Generator Loss: 0.749\n",
      "Iteration: 20, Discriminator Loss: 1.314, Generator Loss: 0.756\n",
      "Iteration: 30, Discriminator Loss: 1.285, Generator Loss: 0.758\n",
      "Iteration: 40, Discriminator Loss: 1.246, Generator Loss: 0.753\n",
      "Iteration: 50, Discriminator Loss: 1.215, Generator Loss: 0.763\n",
      "Iteration: 60, Discriminator Loss: 1.182, Generator Loss: 0.770\n",
      "Iteration: 70, Discriminator Loss: 1.097, Generator Loss: 0.794\n",
      "Iteration: 80, Discriminator Loss: 1.083, Generator Loss: 0.790\n",
      "Iteration: 90, Discriminator Loss: 1.024, Generator Loss: 0.818\n",
      "Iteration: 100, Discriminator Loss: 1.003, Generator Loss: 0.822\n",
      "Iteration: 110, Discriminator Loss: 0.942, Generator Loss: 0.812\n",
      "Iteration: 120, Discriminator Loss: 0.844, Generator Loss: 0.835\n",
      "Iteration: 130, Discriminator Loss: 0.894, Generator Loss: 0.796\n",
      "Iteration: 140, Discriminator Loss: 1.015, Generator Loss: 0.705\n",
      "Iteration: 150, Discriminator Loss: 1.145, Generator Loss: 0.633\n",
      "Iteration: 160, Discriminator Loss: 1.209, Generator Loss: 0.604\n",
      "Iteration: 170, Discriminator Loss: 0.942, Generator Loss: 0.858\n",
      "Iteration: 180, Discriminator Loss: 1.017, Generator Loss: 0.830\n",
      "Iteration: 190, Discriminator Loss: 1.216, Generator Loss: 0.738\n",
      "Iteration: 200, Discriminator Loss: 1.154, Generator Loss: 0.760\n",
      "Iteration: 210, Discriminator Loss: 1.146, Generator Loss: 0.727\n",
      "Iteration: 220, Discriminator Loss: 1.095, Generator Loss: 0.737\n",
      "Iteration: 230, Discriminator Loss: 1.296, Generator Loss: 0.709\n",
      "Iteration: 240, Discriminator Loss: 1.233, Generator Loss: 0.703\n",
      "Iteration: 250, Discriminator Loss: 1.313, Generator Loss: 0.550\n",
      "Iteration: 260, Discriminator Loss: 1.044, Generator Loss: 0.846\n",
      "Iteration: 270, Discriminator Loss: 1.102, Generator Loss: 0.805\n",
      "Iteration: 280, Discriminator Loss: 1.230, Generator Loss: 0.748\n",
      "Iteration: 290, Discriminator Loss: 1.060, Generator Loss: 0.828\n",
      "Iteration: 300, Discriminator Loss: 1.154, Generator Loss: 0.856\n",
      "Iteration: 310, Discriminator Loss: 1.242, Generator Loss: 0.664\n",
      "Iteration: 320, Discriminator Loss: 1.133, Generator Loss: 0.726\n",
      "Iteration: 330, Discriminator Loss: 1.205, Generator Loss: 0.648\n",
      "Iteration: 340, Discriminator Loss: 1.068, Generator Loss: 0.872\n",
      "Iteration: 350, Discriminator Loss: 1.172, Generator Loss: 0.841\n",
      "Iteration: 360, Discriminator Loss: 1.323, Generator Loss: 0.648\n",
      "Iteration: 370, Discriminator Loss: 1.417, Generator Loss: 0.541\n",
      "Iteration: 380, Discriminator Loss: 1.165, Generator Loss: 0.713\n",
      "Iteration: 390, Discriminator Loss: 1.002, Generator Loss: 0.919\n",
      "Iteration: 400, Discriminator Loss: 1.072, Generator Loss: 0.821\n",
      "Iteration: 410, Discriminator Loss: 1.556, Generator Loss: 0.620\n",
      "Iteration: 420, Discriminator Loss: 1.101, Generator Loss: 0.859\n",
      "Iteration: 430, Discriminator Loss: 1.152, Generator Loss: 0.860\n",
      "Iteration: 440, Discriminator Loss: 0.994, Generator Loss: 0.866\n",
      "Iteration: 450, Discriminator Loss: 1.033, Generator Loss: 0.900\n",
      "Iteration: 460, Discriminator Loss: 1.006, Generator Loss: 0.937\n",
      "Iteration: 470, Discriminator Loss: 1.256, Generator Loss: 0.612\n",
      "Iteration: 480, Discriminator Loss: 0.907, Generator Loss: 0.936\n",
      "Iteration: 490, Discriminator Loss: 0.741, Generator Loss: 1.209\n",
      "Iteration: 500, Discriminator Loss: 0.754, Generator Loss: 1.356\n"
     ]
    }
   ],
   "source": [
    "discriminator = Discriminator().to(device)\n",
    "generator = PatchQuantumGenerator(n_generators).to(device)\n",
    "\n",
    "\n",
    "# Binary cross entropy\n",
    "criterion = nn.BCELoss()\n",
    "\n",
    "# Optimisers\n",
    "optD = optim.SGD(discriminator.parameters(), lr=lrD, momentum = 0)\n",
    "optG = optim.SGD(generator.parameters(), lr=lrG, momentum = 0)\n",
    "\n",
    "real_labels = torch.full((batch_size,), 1.0, dtype=torch.float, device=device)\n",
    "fake_labels = torch.full((batch_size,), 0.0, dtype=torch.float, device=device)\n",
    "\n",
    "# Fixed noise allows us to visually track the generated images throughout training\n",
    "fixed_noise = torch.rand(8, n_qubits, device=device) * math.pi / 2\n",
    "\n",
    "# Iteration counter\n",
    "counter = 0\n",
    "\n",
    "# Collect images for plotting later\n",
    "results = []\n",
    "\n",
    "while True:\n",
    "    for i, (data, _) in enumerate(dataloader):\n",
    "\n",
    "        # Data for training the discriminator\n",
    "        data = data.reshape(-1, image_size * image_size)\n",
    "        real_data = data.to(device)\n",
    "\n",
    "        # Noise follwing a uniform distribution in range [0,pi/2)\n",
    "        noise = torch.rand(batch_size, n_qubits, device=device) * math.pi / 2\n",
    "        fake_data = generator(noise)\n",
    "\n",
    "        # Training the discriminator\n",
    "        discriminator.zero_grad()\n",
    "        outD_real = discriminator(real_data).view(-1)\n",
    "        outD_fake = discriminator(fake_data.detach()).view(-1)\n",
    "\n",
    "        errD_real = criterion(outD_real, real_labels)\n",
    "        errD_fake = criterion(outD_fake, fake_labels)\n",
    "        # Propagate gradients\n",
    "        errD_real.backward()\n",
    "        errD_fake.backward()\n",
    "\n",
    "        errD = errD_real + errD_fake\n",
    "        optD.step()\n",
    "\n",
    "        # Training the generator\n",
    "        generator.zero_grad()\n",
    "        outD_fake = discriminator(fake_data).view(-1)\n",
    "        errG = criterion(outD_fake, real_labels)\n",
    "        errG.backward()\n",
    "        optG.step()\n",
    "\n",
    "        counter += 1\n",
    "\n",
    "        # Show loss values\n",
    "        if counter % 10 == 0:\n",
    "            print(f'Iteration: {counter}, Discriminator Loss: {errD:0.3f}, Generator Loss: {errG:0.3f}')\n",
    "            test_images = generator(fixed_noise).view(8,1,image_size,image_size).cpu().detach()\n",
    "\n",
    "            # Save images every 50 iterations\n",
    "            if counter % 50 == 0:\n",
    "                results.append(test_images)\n",
    "\n",
    "        if counter == num_iter:\n",
    "            break\n",
    "    if counter == num_iter:\n",
    "        break"
   ]
  },
  {
   "cell_type": "code",
   "execution_count": 52,
   "id": "9c1805e1",
   "metadata": {},
   "outputs": [
    {
     "data": {
      "image/png": "[encoded data removed]",
      "text/plain": [
       "<Figure size 720x360 with 80 Axes>"
      ]
     },
     "metadata": {},
     "output_type": "display_data"
    }
   ],
   "source": [
    "fig = plt.figure(figsize=(10, 5))\n",
    "outer = gridspec.GridSpec(5, 2, wspace=0.1)\n",
    "\n",
    "for i, images in enumerate(results):\n",
    "    inner = gridspec.GridSpecFromSubplotSpec(1, images.size(0),\n",
    "                    subplot_spec=outer[i])\n",
    "\n",
    "    images = torch.squeeze(images, dim=1)\n",
    "    for j, im in enumerate(images):\n",
    "\n",
    "        ax = plt.Subplot(fig, inner[j])\n",
    "        ax.imshow(im.numpy(), cmap=\"gray\")\n",
    "        ax.set_xticks([])\n",
    "        ax.set_yticks([])\n",
    "        if j==0:\n",
    "            ax.set_title(f'Iteration {50+i*50}', loc='left')\n",
    "        fig.add_subplot(ax)\n",
    "\n",
    "plt.show()"
   ]
  },
  {
   "cell_type": "markdown",
   "id": "18bd4ab3",
   "metadata": {},
   "source": [
    "First change : Changing the number of ancillary qubits from 1 to 2 : I didn't really see any noticeable difference, the accuracies were almost the same as before, I did have to change the learning rates slightly to prevent it from oscillating too much. Even the images I got were almost the same as before. (I guess I've also tinkered with the learning rates here, I've done it a lot for my actual paper as well."
   ]
  },
  {
   "cell_type": "markdown",
   "id": "6f97e0bd",
   "metadata": {},
   "source": [
    "I also tried increasing the depth of the parameterized quantum circuit to 10, it took me a long time to run (don't try it) and actually gave worse values than the original (of course, I hadn't changed any of the other parameters such as learning rate, number of qubits, etc."
   ]
  },
  {
   "cell_type": "markdown",
   "id": "bcbd5bda",
   "metadata": {},
   "source": [
    "Since we're using SGD, I flirted with the idea of using Adam instead, however, the values fluctuated too much even when I did my best to control it using the learning rate. That wasn't successful. Instead, I tried to introduce another parameter in SGD, that of momentum. Momentum can be visualised in a manenr similar to the physical version of it, that is, it takes into account what the value was before the update while updating it, thereby letting it keep some of its 'momentum', so to speak. I tried some small momentum values, like 0.2 for the discriminator and 0.05 for the generator, they just made it more unstable."
   ]
  },
  {
   "cell_type": "markdown",
   "id": "21af1815",
   "metadata": {},
   "source": []
  }
 ],
 "metadata": {
  "kernelspec": {
   "display_name": "Python 3 (ipykernel)",
   "language": "python",
   "name": "python3"
  },
  "language_info": {
   "codemirror_mode": {
    "name": "ipython",
    "version": 3
   },
   "file_extension": ".py",
   "mimetype": "text/x-python",
   "name": "python",
   "nbconvert_exporter": "python",
   "pygments_lexer": "ipython3",
   "version": "3.9.12"
  }
 },
 "nbformat": 4,
 "nbformat_minor": 5
}
