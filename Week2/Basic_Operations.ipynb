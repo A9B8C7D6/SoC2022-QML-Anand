{
 "cells": [
  {
   "cell_type": "code",
   "execution_count": 1,
   "id": "158e6e2c",
   "metadata": {},
   "outputs": [],
   "source": [
    "from qiskit import QuantumCircuit, assemble, Aer\n",
    "from qiskit.visualization import plot_histogram, plot_bloch_vector, array_to_latex\n",
    "from math import sqrt, pi\n",
    "from IPython.display import display, Math"
   ]
  },
  {
   "cell_type": "code",
   "execution_count": 12,
   "id": "9fa633b4",
   "metadata": {},
   "outputs": [
    {
     "name": "stdout",
     "output_type": "stream",
     "text": [
      "     ┌───┐     ┌───┐\n",
      "q_0: ┤ X ├──■──┤ X ├\n",
      "     └─┬─┘┌─┴─┐└─┬─┘\n",
      "q_1: ──■──┤ X ├──■──\n",
      "          └───┘     \n"
     ]
    },
    {
     "data": {
      "text/latex": [
       "$$\n",
       "\\text{Circuit = }\n",
       "\n",
       "\\begin{bmatrix}\n",
       "1 & 0 & 0 & 0  \\\\\n",
       " 0 & 0 & 1 & 0  \\\\\n",
       " 0 & 1 & 0 & 0  \\\\\n",
       " 0 & 0 & 0 & 1  \\\\\n",
       " \\end{bmatrix}\n",
       "$$"
      ],
      "text/plain": [
       "<IPython.core.display.Latex object>"
      ]
     },
     "metadata": {},
     "output_type": "display_data"
    }
   ],
   "source": [
    "#Swap gate\n",
    "qc_swap = QuantumCircuit(2)\n",
    "qc_swap.cx(1,0)\n",
    "qc_swap.cx(0,1)\n",
    "qc_swap.cx(1,0)\n",
    "print(qc_swap.draw())\n",
    "usim = Aer.get_backend('aer_simulator')\n",
    "qc_swap.save_unitary()\n",
    "qobj = assemble(qc_swap)\n",
    "unitary = usim.run(qobj).result().get_unitary()\n",
    "display(array_to_latex(unitary, prefix=\"\\\\text{Circuit = }\\n\"))"
   ]
  },
  {
   "cell_type": "code",
   "execution_count": 14,
   "id": "832c10e3",
   "metadata": {},
   "outputs": [
    {
     "name": "stdout",
     "output_type": "stream",
     "text": [
      "               ┌───┐\n",
      "q_0: ──■────■──┤ X ├\n",
      "       │  ┌─┴─┐└───┘\n",
      "q_1: ──■──┤ X ├─────\n",
      "     ┌─┴─┐└───┘     \n",
      "q_2: ┤ X ├──────────\n",
      "     └───┘          \n"
     ]
    },
    {
     "data": {
      "text/latex": [
       "$$\n",
       "\\text{Circuit = }\n",
       "\n",
       "\\begin{bmatrix}\n",
       "0 & 0 & 0 & 0 & 0 & 0 & 0 & 1  \\\\\n",
       " 1 & 0 & 0 & 0 & 0 & 0 & 0 & 0  \\\\\n",
       " 0 & 1 & 0 & 0 & 0 & 0 & 0 & 0  \\\\\n",
       " 0 & 0 & 1 & 0 & 0 & 0 & 0 & 0  \\\\\n",
       " 0 & 0 & 0 & 1 & 0 & 0 & 0 & 0  \\\\\n",
       " 0 & 0 & 0 & 0 & 1 & 0 & 0 & 0  \\\\\n",
       " 0 & 0 & 0 & 0 & 0 & 1 & 0 & 0  \\\\\n",
       " 0 & 0 & 0 & 0 & 0 & 0 & 1 & 0  \\\\\n",
       " \\end{bmatrix}\n",
       "$$"
      ],
      "text/plain": [
       "<IPython.core.display.Latex object>"
      ]
     },
     "metadata": {},
     "output_type": "display_data"
    }
   ],
   "source": [
    "#Incrementation mod 8\n",
    "qc_inc = QuantumCircuit(3)\n",
    "qc_inc.ccx(0,1,2)\n",
    "qc_inc.cx(0,1)\n",
    "qc_inc.x(0)\n",
    "print(qc_inc.draw())\n",
    "usim = Aer.get_backend('aer_simulator')\n",
    "qc_inc.save_unitary()\n",
    "qobj = assemble(qc_inc)\n",
    "unitary = usim.run(qobj).result().get_unitary()\n",
    "display(array_to_latex(unitary, prefix=\"\\\\text{Circuit = }\\n\"))"
   ]
  }
 ],
 "metadata": {
  "kernelspec": {
   "display_name": "Python 3 (ipykernel)",
   "language": "python",
   "name": "python3"
  },
  "language_info": {
   "codemirror_mode": {
    "name": "ipython",
    "version": 3
   },
   "file_extension": ".py",
   "mimetype": "text/x-python",
   "name": "python",
   "nbconvert_exporter": "python",
   "pygments_lexer": "ipython3",
   "version": "3.10.4"
  }
 },
 "nbformat": 4,
 "nbformat_minor": 5
}
