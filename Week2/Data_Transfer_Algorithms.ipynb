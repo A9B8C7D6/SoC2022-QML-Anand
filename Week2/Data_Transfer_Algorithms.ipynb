{
 "cells": [
  {
   "cell_type": "code",
   "execution_count": 1,
   "id": "b7618755",
   "metadata": {},
   "outputs": [],
   "source": [
    "from qiskit import QuantumCircuit, assemble, Aer\n",
    "from qiskit.visualization import plot_histogram, plot_bloch_vector, array_to_latex\n",
    "from math import sqrt, pi\n",
    "from IPython.display import display, Math"
   ]
  },
  {
   "cell_type": "code",
   "execution_count": 10,
   "id": "83365738",
   "metadata": {},
   "outputs": [
    {
     "data": {
      "text/html": [
       "<pre style=\"word-wrap: normal;white-space: pre;background: #fff0;line-height: 1.1;font-family: &quot;Courier New&quot;,Courier,monospace\">                   ░      ┌───┐      ░ ┌─┐      \n",
       "   q_0: ───────────░───■──┤ H ├──■───░─┤M├──────\n",
       "        ┌───┐      ░ ┌─┴─┐└───┘  │   ░ └╥┘┌─┐   \n",
       "   q_1: ┤ H ├──■───░─┤ X ├──■────┼───░──╫─┤M├───\n",
       "        └───┘┌─┴─┐ ░ └───┘┌─┴─┐┌─┴─┐ ░  ║ └╥┘┌─┐\n",
       "   q_2: ─────┤ X ├─░──────┤ X ├┤ H ├─░──╫──╫─┤M├\n",
       "             └───┘ ░      └───┘└───┘ ░  ║  ║ └╥┘\n",
       "meas: 3/════════════════════════════════╩══╩══╩═\n",
       "                                        0  1  2 </pre>"
      ],
      "text/plain": [
       "                   ░      ┌───┐      ░ ┌─┐      \n",
       "   q_0: ───────────░───■──┤ H ├──■───░─┤M├──────\n",
       "        ┌───┐      ░ ┌─┴─┐└───┘  │   ░ └╥┘┌─┐   \n",
       "   q_1: ┤ H ├──■───░─┤ X ├──■────┼───░──╫─┤M├───\n",
       "        └───┘┌─┴─┐ ░ └───┘┌─┴─┐┌─┴─┐ ░  ║ └╥┘┌─┐\n",
       "   q_2: ─────┤ X ├─░──────┤ X ├┤ H ├─░──╫──╫─┤M├\n",
       "             └───┘ ░      └───┘└───┘ ░  ║  ║ └╥┘\n",
       "meas: 3/════════════════════════════════╩══╩══╩═\n",
       "                                        0  1  2 "
      ]
     },
     "execution_count": 10,
     "metadata": {},
     "output_type": "execute_result"
    }
   ],
   "source": [
    "qc_tel = QuantumCircuit(3)\n",
    "qc_tel.h(1)\n",
    "qc_tel.cx(1,2)\n",
    "qc_tel.barrier()\n",
    "qc_tel.cx(0,1)\n",
    "qc_tel.h(0)\n",
    "qc_tel.cx(1,2)\n",
    "qc_tel.ch(0,2)\n",
    "qc_tel.measure_all()\n",
    "qc_tel.draw()"
   ]
  }
 ],
 "metadata": {
  "kernelspec": {
   "display_name": "Python 3 (ipykernel)",
   "language": "python",
   "name": "python3"
  },
  "language_info": {
   "codemirror_mode": {
    "name": "ipython",
    "version": 3
   },
   "file_extension": ".py",
   "mimetype": "text/x-python",
   "name": "python",
   "nbconvert_exporter": "python",
   "pygments_lexer": "ipython3",
   "version": "3.10.4"
  }
 },
 "nbformat": 4,
 "nbformat_minor": 5
}
