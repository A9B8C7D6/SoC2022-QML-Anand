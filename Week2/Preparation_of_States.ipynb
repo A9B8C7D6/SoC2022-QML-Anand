{
 "cells": [
  {
   "cell_type": "code",
   "execution_count": 69,
   "metadata": {},
   "outputs": [],
   "source": [
    "from qiskit import QuantumCircuit, assemble, Aer\n",
    "from qiskit.visualization import plot_histogram, plot_bloch_vector, array_to_latex\n",
    "from math import sqrt, pi\n",
    "from IPython.display import display, Math"
   ]
  },
  {
   "cell_type": "code",
   "execution_count": 2,
   "metadata": {},
   "outputs": [],
   "source": [
    "qc_output = QuantumCircuit(8)"
   ]
  },
  {
   "cell_type": "code",
   "execution_count": 3,
   "metadata": {},
   "outputs": [],
   "source": [
    "qc_output.measure_all()"
   ]
  },
  {
   "cell_type": "code",
   "execution_count": 4,
   "metadata": {},
   "outputs": [
    {
     "data": {
      "text/html": [
       "<pre style=\"word-wrap: normal;white-space: pre;background: #fff0;line-height: 1.1;font-family: &quot;Courier New&quot;,Courier,monospace\">           ░ ┌─┐                     \n",
       "  q_0: |0>─░─┤M├─────────────────────\n",
       "           ░ └╥┘┌─┐                  \n",
       "  q_1: |0>─░──╫─┤M├──────────────────\n",
       "           ░  ║ └╥┘┌─┐               \n",
       "  q_2: |0>─░──╫──╫─┤M├───────────────\n",
       "           ░  ║  ║ └╥┘┌─┐            \n",
       "  q_3: |0>─░──╫──╫──╫─┤M├────────────\n",
       "           ░  ║  ║  ║ └╥┘┌─┐         \n",
       "  q_4: |0>─░──╫──╫──╫──╫─┤M├─────────\n",
       "           ░  ║  ║  ║  ║ └╥┘┌─┐      \n",
       "  q_5: |0>─░──╫──╫──╫──╫──╫─┤M├──────\n",
       "           ░  ║  ║  ║  ║  ║ └╥┘┌─┐   \n",
       "  q_6: |0>─░──╫──╫──╫──╫──╫──╫─┤M├───\n",
       "           ░  ║  ║  ║  ║  ║  ║ └╥┘┌─┐\n",
       "  q_7: |0>─░──╫──╫──╫──╫──╫──╫──╫─┤M├\n",
       "           ░  ║  ║  ║  ║  ║  ║  ║ └╥┘\n",
       "meas: 0 8/════╩══╩══╩══╩══╩══╩══╩══╩═\n",
       "              0  1  2  3  4  5  6  7 </pre>"
      ],
      "text/plain": [
       "           ░ ┌─┐                     \n",
       "  q_0: |0>─░─┤M├─────────────────────\n",
       "           ░ └╥┘┌─┐                  \n",
       "  q_1: |0>─░──╫─┤M├──────────────────\n",
       "           ░  ║ └╥┘┌─┐               \n",
       "  q_2: |0>─░──╫──╫─┤M├───────────────\n",
       "           ░  ║  ║ └╥┘┌─┐            \n",
       "  q_3: |0>─░──╫──╫──╫─┤M├────────────\n",
       "           ░  ║  ║  ║ └╥┘┌─┐         \n",
       "  q_4: |0>─░──╫──╫──╫──╫─┤M├─────────\n",
       "           ░  ║  ║  ║  ║ └╥┘┌─┐      \n",
       "  q_5: |0>─░──╫──╫──╫──╫──╫─┤M├──────\n",
       "           ░  ║  ║  ║  ║  ║ └╥┘┌─┐   \n",
       "  q_6: |0>─░──╫──╫──╫──╫──╫──╫─┤M├───\n",
       "           ░  ║  ║  ║  ║  ║  ║ └╥┘┌─┐\n",
       "  q_7: |0>─░──╫──╫──╫──╫──╫──╫──╫─┤M├\n",
       "           ░  ║  ║  ║  ║  ║  ║  ║ └╥┘\n",
       "meas: 0 8/════╩══╩══╩══╩══╩══╩══╩══╩═\n",
       "              0  1  2  3  4  5  6  7 "
      ]
     },
     "execution_count": 4,
     "metadata": {},
     "output_type": "execute_result"
    }
   ],
   "source": [
    "qc_output.draw(initial_state=True) "
   ]
  },
  {
   "cell_type": "code",
   "execution_count": 27,
   "metadata": {},
   "outputs": [
    {
     "data": {
      "text/html": [
       "<pre style=\"word-wrap: normal;white-space: pre;background: #fff0;line-height: 1.1;font-family: &quot;Courier New&quot;,Courier,monospace\">             ┌───┐ ░ \n",
       "q_0: |0>─────┤ X ├─░─\n",
       "        ┌───┐└─┬─┘ ░ \n",
       "q_1: |0>┤ H ├──■───░─\n",
       "        └───┘      ░ </pre>"
      ],
      "text/plain": [
       "             ┌───┐ ░ \n",
       "q_0: |0>─────┤ X ├─░─\n",
       "        ┌───┐└─┬─┘ ░ \n",
       "q_1: |0>┤ H ├──■───░─\n",
       "        └───┘      ░ "
      ]
     },
     "execution_count": 27,
     "metadata": {},
     "output_type": "execute_result"
    }
   ],
   "source": [
    "#Preparation of Bell states\n",
    "qc_bell1 = QuantumCircuit(2)\n",
    "qc_bell1.h(1)\n",
    "qc_bell1.cx(1,0)\n",
    "qc_bell1.save_statevector()\n",
    "qc_bell1.draw(initial_state=True)\n"
   ]
  },
  {
   "cell_type": "code",
   "execution_count": 28,
   "metadata": {},
   "outputs": [
    {
     "data": {
      "text/latex": [
       "$$\n",
       "\\text{Statevector} = \n",
       "\\begin{bmatrix}\n",
       "\\tfrac{1}{\\sqrt{2}} & 0 & 0 & \\tfrac{1}{\\sqrt{2}}  \\\\\n",
       " \\end{bmatrix}\n",
       "$$"
      ],
      "text/plain": [
       "<IPython.core.display.Latex object>"
      ]
     },
     "execution_count": 28,
     "metadata": {},
     "output_type": "execute_result"
    }
   ],
   "source": [
    "sim = Aer.get_backend('aer_simulator')  # Tell Qiskit how to simulate our circuit\n",
    "qobj = assemble(qc_bell1)\n",
    "final_state = sim.run(qobj).result().get_statevector() # Execute the circuit\n",
    "array_to_latex(final_state, prefix=\"\\\\text{Statevector} = \")           # Print the result"
   ]
  },
  {
   "cell_type": "code",
   "execution_count": 86,
   "metadata": {},
   "outputs": [
    {
     "name": "stdout",
     "output_type": "stream",
     "text": [
      "                  ┌───┐ ░ \n",
      "q_0: |0>──────────┤ X ├─░─\n",
      "        ┌───┐┌───┐└─┬─┘ ░ \n",
      "q_1: |0>┤ X ├┤ H ├──■───░─\n",
      "        └───┘└───┘      ░ \n"
     ]
    },
    {
     "data": {
      "text/latex": [
       "$$\n",
       "\\text{Statevector} = \n",
       "\\begin{bmatrix}\n",
       "\\tfrac{1}{\\sqrt{2}} & 0 & 0 & -\\tfrac{1}{\\sqrt{2}}  \\\\\n",
       " \\end{bmatrix}\n",
       "$$"
      ],
      "text/plain": [
       "<IPython.core.display.Latex object>"
      ]
     },
     "metadata": {},
     "output_type": "display_data"
    }
   ],
   "source": [
    "qc_bell2 = QuantumCircuit(2)\n",
    "qc_bell2.x(1)\n",
    "qc_bell2.h(1)\n",
    "qc_bell2.cx(1,0)\n",
    "qc_bell2.save_statevector()\n",
    "print(qc_bell2.draw(initial_state=True))\n",
    "sim = Aer.get_backend('aer_simulator')  # Tell Qiskit how to simulate our circuit\n",
    "qobj = assemble(qc_bell2)\n",
    "final_state = sim.run(qobj).result().get_statevector() # Execute the circuit\n",
    "display(array_to_latex(final_state, prefix=\"\\\\text{Statevector} = \")  )         # Print the result\n"
   ]
  },
  {
   "cell_type": "code",
   "execution_count": 30,
   "metadata": {},
   "outputs": [
    {
     "data": {
      "text/latex": [
       "$$\n",
       "\\text{Statevector} = \n",
       "\\begin{bmatrix}\n",
       "\\tfrac{1}{\\sqrt{2}} & 0 & 0 & -\\tfrac{1}{\\sqrt{2}}  \\\\\n",
       " \\end{bmatrix}\n",
       "$$"
      ],
      "text/plain": [
       "<IPython.core.display.Latex object>"
      ]
     },
     "execution_count": 30,
     "metadata": {},
     "output_type": "execute_result"
    }
   ],
   "source": [
    "sim = Aer.get_backend('aer_simulator')  # Tell Qiskit how to simulate our circuit\n",
    "qobj = assemble(qc_bell2)\n",
    "final_state = sim.run(qobj).result().get_statevector() # Execute the circuit\n",
    "array_to_latex(final_state, prefix=\"\\\\text{Statevector} = \")           # Print the result"
   ]
  },
  {
   "cell_type": "code",
   "execution_count": 84,
   "metadata": {},
   "outputs": [
    {
     "name": "stdout",
     "output_type": "stream",
     "text": [
      "        ┌───┐┌───┐ ░ \n",
      "q_0: |0>┤ X ├┤ X ├─░─\n",
      "        ├───┤└─┬─┘ ░ \n",
      "q_1: |0>┤ H ├──■───░─\n",
      "        └───┘      ░ \n"
     ]
    },
    {
     "data": {
      "text/latex": [
       "$$\n",
       "\\text{Statevector} = \n",
       "\\begin{bmatrix}\n",
       "0 & \\tfrac{1}{\\sqrt{2}} & \\tfrac{1}{\\sqrt{2}} & 0  \\\\\n",
       " \\end{bmatrix}\n",
       "$$"
      ],
      "text/plain": [
       "<IPython.core.display.Latex object>"
      ]
     },
     "metadata": {},
     "output_type": "display_data"
    }
   ],
   "source": [
    "qc_bell3 = QuantumCircuit(2)\n",
    "qc_bell3.h(1)\n",
    "qc_bell3.x(0)\n",
    "qc_bell3.cx(1,0)\n",
    "qc_bell3.save_statevector()\n",
    "print(qc_bell3.draw(initial_state=True))\n",
    "sim = Aer.get_backend('aer_simulator')  # Tell Qiskit how to simulate our circuit\n",
    "qobj = assemble(qc_bell3)\n",
    "final_state = sim.run(qobj).result().get_statevector() # Execute the circuit\n",
    "display(array_to_latex(final_state, prefix=\"\\\\text{Statevector} = \"))        # Print the result"
   ]
  },
  {
   "cell_type": "code",
   "execution_count": 33,
   "metadata": {},
   "outputs": [
    {
     "data": {
      "text/latex": [
       "$$\n",
       "\\text{Statevector} = \n",
       "\\begin{bmatrix}\n",
       "0 & \\tfrac{1}{\\sqrt{2}} & \\tfrac{1}{\\sqrt{2}} & 0  \\\\\n",
       " \\end{bmatrix}\n",
       "$$"
      ],
      "text/plain": [
       "<IPython.core.display.Latex object>"
      ]
     },
     "execution_count": 33,
     "metadata": {},
     "output_type": "execute_result"
    }
   ],
   "source": [
    "sim = Aer.get_backend('aer_simulator')  # Tell Qiskit how to simulate our circuit\n",
    "qobj = assemble(qc_bell3)\n",
    "final_state = sim.run(qobj).result().get_statevector() # Execute the circuit\n",
    "array_to_latex(final_state, prefix=\"\\\\text{Statevector} = \")           # Print the result"
   ]
  },
  {
   "cell_type": "code",
   "execution_count": 81,
   "metadata": {},
   "outputs": [
    {
     "name": "stdout",
     "output_type": "stream",
     "text": [
      "        ┌───┐     ┌───┐ ░ \n",
      "q_0: |0>┤ X ├─────┤ X ├─░─\n",
      "        ├───┤┌───┐└─┬─┘ ░ \n",
      "q_1: |0>┤ X ├┤ H ├──■───░─\n",
      "        └───┘└───┘      ░ \n"
     ]
    },
    {
     "data": {
      "text/latex": [
       "$$\n",
       "\\text{Statevector} = \n",
       "\\begin{bmatrix}\n",
       "0 & \\tfrac{1}{\\sqrt{2}} & -\\tfrac{1}{\\sqrt{2}} & 0  \\\\\n",
       " \\end{bmatrix}\n",
       "$$"
      ],
      "text/plain": [
       "<IPython.core.display.Latex object>"
      ]
     },
     "metadata": {},
     "output_type": "display_data"
    }
   ],
   "source": [
    "qc_bell4 = QuantumCircuit(2)\n",
    "qc_bell4.x(1)\n",
    "qc_bell4.x(0)\n",
    "qc_bell4.h(1)\n",
    "qc_bell4.cx(1,0)\n",
    "qc_bell4.save_statevector()\n",
    "print(qc_bell4.draw(initial_state=True))\n",
    "sim = Aer.get_backend('aer_simulator')  # Tell Qiskit how to simulate our circuit\n",
    "qobj = assemble(qc_bell4)\n",
    "final_state = sim.run(qobj).result().get_statevector() # Execute the circuit\n",
    "display(array_to_latex(final_state, prefix=\"\\\\text{Statevector} = \")  )         # Print the result\n"
   ]
  },
  {
   "cell_type": "code",
   "execution_count": 42,
   "metadata": {},
   "outputs": [
    {
     "data": {
      "text/latex": [
       "$$\n",
       "\\text{Statevector} = \n",
       "\\begin{bmatrix}\n",
       "0 & \\tfrac{1}{\\sqrt{2}} & -\\tfrac{1}{\\sqrt{2}} & 0  \\\\\n",
       " \\end{bmatrix}\n",
       "$$"
      ],
      "text/plain": [
       "<IPython.core.display.Latex object>"
      ]
     },
     "execution_count": 42,
     "metadata": {},
     "output_type": "execute_result"
    }
   ],
   "source": [
    "sim = Aer.get_backend('aer_simulator')  # Tell Qiskit how to simulate our circuit\n",
    "qobj = assemble(qc_bell4)\n",
    "final_state = sim.run(qobj).result().get_statevector() # Execute the circuit\n",
    "array_to_latex(final_state, prefix=\"\\\\text{Statevector} = \")           # Print the result"
   ]
  },
  {
   "cell_type": "code",
   "execution_count": 79,
   "metadata": {},
   "outputs": [
    {
     "data": {
      "text/html": [
       "<pre style=\"word-wrap: normal;white-space: pre;background: #fff0;line-height: 1.1;font-family: &quot;Courier New&quot;,Courier,monospace\">        ┌───┐     ┌───┐\n",
       "q_0: |0>┤ X ├─────┤ X ├\n",
       "        ├───┤┌───┐└─┬─┘\n",
       "q_1: |0>┤ X ├┤ H ├──■──\n",
       "        └───┘└───┘     </pre>"
      ],
      "text/plain": [
       "        ┌───┐     ┌───┐\n",
       "q_0: |0>┤ X ├─────┤ X ├\n",
       "        ├───┤┌───┐└─┬─┘\n",
       "q_1: |0>┤ X ├┤ H ├──■──\n",
       "        └───┘└───┘     "
      ]
     },
     "execution_count": 79,
     "metadata": {},
     "output_type": "execute_result"
    }
   ],
   "source": [
    "qc_bell4 = QuantumCircuit(2)\n",
    "qc_bell4.x(1)\n",
    "qc_bell4.x(0)\n",
    "qc_bell4.h(1)\n",
    "qc_bell4.cx(1,0)\n",
    "qc_bell4.draw(initial_state=True)"
   ]
  },
  {
   "cell_type": "code",
   "execution_count": 80,
   "metadata": {},
   "outputs": [
    {
     "data": {
      "text/latex": [
       "$$\n",
       "\\text{Circuit = }\n",
       "\n",
       "\\begin{bmatrix}\n",
       "0 & \\tfrac{1}{\\sqrt{2}} & 0 & \\tfrac{1}{\\sqrt{2}}  \\\\\n",
       " \\tfrac{1}{\\sqrt{2}} & 0 & \\tfrac{1}{\\sqrt{2}} & 0  \\\\\n",
       " -\\tfrac{1}{\\sqrt{2}} & 0 & \\tfrac{1}{\\sqrt{2}} & 0  \\\\\n",
       " 0 & -\\tfrac{1}{\\sqrt{2}} & 0 & \\tfrac{1}{\\sqrt{2}}  \\\\\n",
       " \\end{bmatrix}\n",
       "$$"
      ],
      "text/plain": [
       "<IPython.core.display.Latex object>"
      ]
     },
     "metadata": {},
     "output_type": "display_data"
    },
    {
     "name": "stdout",
     "output_type": "stream",
     "text": [
      "\n"
     ]
    }
   ],
   "source": [
    "usim = Aer.get_backend('aer_simulator')\n",
    "qc_bell4.save_unitary()\n",
    "qobj = assemble(qc_bell4)\n",
    "unitary = usim.run(qobj).result().get_unitary()\n",
    "#array_to_latex(unitary, prefix=\"\\\\text{Circuit = }\\n\")\n",
    "display(array_to_latex(unitary, prefix=\"\\\\text{Circuit = }\\n\"))"
   ]
  },
  {
   "cell_type": "code",
   "execution_count": null,
   "metadata": {},
   "outputs": [],
   "source": [
    "#Preparing GHZ (general)"
   ]
  },
  {
   "cell_type": "code",
   "execution_count": 89,
   "metadata": {},
   "outputs": [
    {
     "name": "stdout",
     "output_type": "stream",
     "text": [
      "Enter the number : 5\n",
      "             ┌───┐                ░ \n",
      "q_0: |0>─────┤ X ├────────────────░─\n",
      "             └─┬─┘┌───┐           ░ \n",
      "q_1: |0>───────┼──┤ X ├───────────░─\n",
      "               │  └─┬─┘┌───┐      ░ \n",
      "q_2: |0>───────┼────┼──┤ X ├──────░─\n",
      "               │    │  └─┬─┘┌───┐ ░ \n",
      "q_3: |0>───────┼────┼────┼──┤ X ├─░─\n",
      "        ┌───┐  │    │    │  └─┬─┘ ░ \n",
      "q_4: |0>┤ H ├──■────■────■────■───░─\n",
      "        └───┘                     ░ \n"
     ]
    },
    {
     "data": {
      "text/latex": [
       "$$\n",
       "\\text{Statevector} = \n",
       "\\begin{bmatrix}\n",
       "\\tfrac{1}{\\sqrt{2}} & 0 & 0 & 0 & \\cdots & 0 & 0 & \\tfrac{1}{\\sqrt{2}}  \\\\\n",
       " \\end{bmatrix}\n",
       "$$"
      ],
      "text/plain": [
       "<IPython.core.display.Latex object>"
      ]
     },
     "metadata": {},
     "output_type": "display_data"
    }
   ],
   "source": [
    "def GHZ(n):\n",
    "    qc_ghz = QuantumCircuit(n)\n",
    "    qc_ghz.h(n-1)\n",
    "    for i in range(n-1):\n",
    "        qc_ghz.cx(n-1,i)\n",
    "    qc_ghz.save_statevector()\n",
    "    print(qc_ghz.draw(initial_state=True))\n",
    "    sim = Aer.get_backend('aer_simulator')  # Tell Qiskit how to simulate our circuit\n",
    "    qobj = assemble(qc_ghz)\n",
    "    final_state = sim.run(qobj).result().get_statevector() # Execute the circuit\n",
    "    display(array_to_latex(final_state, prefix=\"\\\\text{Statevector} = \")   )        # Print the result\n",
    "n = int(input(\"Enter the number : \"))\n",
    "GHZ(n)\n"
   ]
  }
 ],
 "metadata": {
  "kernelspec": {
   "display_name": "Python 3 (ipykernel)",
   "language": "python",
   "name": "python3"
  },
  "language_info": {
   "codemirror_mode": {
    "name": "ipython",
    "version": 3
   },
   "file_extension": ".py",
   "mimetype": "text/x-python",
   "name": "python",
   "nbconvert_exporter": "python",
   "pygments_lexer": "ipython3",
   "version": "3.10.4"
  }
 },
 "nbformat": 4,
 "nbformat_minor": 2
}
