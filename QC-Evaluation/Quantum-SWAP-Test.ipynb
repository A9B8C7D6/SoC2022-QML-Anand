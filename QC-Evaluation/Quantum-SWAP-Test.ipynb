{
 "cells": [
  {
   "cell_type": "code",
   "execution_count": 19,
   "id": "7a81a31e",
   "metadata": {},
   "outputs": [],
   "source": [
    "import numpy as np\n",
    "from qiskit import QuantumCircuit, assemble, Aer\n",
    "from qiskit.visualization import plot_histogram, plot_bloch_vector, array_to_latex\n",
    "from math import sqrt, pi\n",
    "from IPython.display import display, Math\n"
   ]
  },
  {
   "cell_type": "code",
   "execution_count": 8,
   "id": "74d21533",
   "metadata": {
    "scrolled": true
   },
   "outputs": [
    {
     "name": "stdout",
     "output_type": "stream",
     "text": [
      "          ┌───┐     \n",
      "q_0: ──■──┤ X ├──■──\n",
      "     ┌─┴─┐└─┬─┘┌─┴─┐\n",
      "q_1: ┤ X ├──■──┤ X ├\n",
      "     └───┘  │  └───┘\n",
      "q_2: ───────■───────\n",
      "                    \n"
     ]
    },
    {
     "data": {
      "text/latex": [
       "$$\n",
       "\\text{Circuit = }\n",
       "\n",
       "\\begin{bmatrix}\n",
       "1 & 0 & 0 & 0 & 0 & 0 & 0 & 0  \\\\\n",
       " 0 & 1 & 0 & 0 & 0 & 0 & 0 & 0  \\\\\n",
       " 0 & 0 & 1 & 0 & 0 & 0 & 0 & 0  \\\\\n",
       " 0 & 0 & 0 & 1 & 0 & 0 & 0 & 0  \\\\\n",
       " 0 & 0 & 0 & 0 & 1 & 0 & 0 & 0  \\\\\n",
       " 0 & 0 & 0 & 0 & 0 & 0 & 1 & 0  \\\\\n",
       " 0 & 0 & 0 & 0 & 0 & 1 & 0 & 0  \\\\\n",
       " 0 & 0 & 0 & 0 & 0 & 0 & 0 & 1  \\\\\n",
       " \\end{bmatrix}\n",
       "$$"
      ],
      "text/plain": [
       "<IPython.core.display.Latex object>"
      ]
     },
     "metadata": {},
     "output_type": "display_data"
    }
   ],
   "source": [
    "#CSWAP operation (order is inverted because of qiskit's system, the circuit gate is still the same)\n",
    "qc_cswap = QuantumCircuit(3)\n",
    "qc_cswap.cx(0,1)\n",
    "qc_cswap.ccx(2,1,0)\n",
    "qc_cswap.cx(0,1)\n",
    "print(qc_cswap.draw())\n",
    "usim = Aer.get_backend('aer_simulator')\n",
    "qc_cswap.save_unitary()\n",
    "qobj = assemble(qc_cswap)\n",
    "unitary = usim.run(qobj).result().get_unitary()\n",
    "display(array_to_latex(unitary, prefix=\"\\\\text{Circuit = }\\n\"))"
   ]
  },
  {
   "cell_type": "code",
   "execution_count": 11,
   "id": "8d7cf647",
   "metadata": {},
   "outputs": [
    {
     "ename": "SyntaxError",
     "evalue": "invalid syntax (2880389410.py, line 1)",
     "output_type": "error",
     "traceback": [
      "\u001b[0;36m  Input \u001b[0;32mIn [11]\u001b[0;36m\u001b[0m\n\u001b[0;31m    The inner product is estimated by the probability of measuring 0 from the ancilla qubit. The probability of measuring a 0 ca\u001b[0m\n\u001b[0m        ^\u001b[0m\n\u001b[0;31mSyntaxError\u001b[0m\u001b[0;31m:\u001b[0m invalid syntax\n"
     ]
    }
   ],
   "source": [
    "#The inner product is estimated by the probability of measuring 0 from the ancilla qubit. The probability of measuring \n",
    "#a 0 can be calculated to be (1 + (inner product)**2)/2 , therefore, by running the experiment a sufficiently large\n",
    "#number of times, you can get the square of the inner product. Determining the sign should be possible by inspection,\n",
    "#so you''ll have a value for the inner product with sign."
   ]
  },
  {
   "cell_type": "code",
   "execution_count": 43,
   "id": "276c690c",
   "metadata": {},
   "outputs": [
    {
     "name": "stdout",
     "output_type": "stream",
     "text": [
      "     ┌──────────────────────┐     ┌───┐        \n",
      "q_0: ┤ Initialize(-0.6,0.8) ├──■──┤ X ├──■─────\n",
      "     ├─────────────────────┬┘┌─┴─┐└─┬─┘┌─┴─┐   \n",
      "q_1: ┤ Initialize(0.6,0.8) ├─┤ X ├──■──┤ X ├───\n",
      "     └─┬─────────────────┬─┘ ├───┤  │  ├───┤┌─┐\n",
      "q_2: ──┤ Initialize(1,0) ├───┤ H ├──■──┤ H ├┤M├\n",
      "       └─────────────────┘   └───┘     └───┘└╥┘\n",
      "c: 1/════════════════════════════════════════╩═\n",
      "                                             0 \n"
     ]
    }
   ],
   "source": [
    "qc_qswap = QuantumCircuit(3,1)\n",
    "qc_qswap.initialize([1,0], 2)\n",
    "qc_qswap.initialize([3/5,4/5], 1)\n",
    "qc_qswap.initialize([-3/5,4/5], 0)\n",
    "qc_qswap.h(2)\n",
    "qc_qswap.cx(0,1)\n",
    "qc_qswap.ccx(2,1,0)\n",
    "qc_qswap.cx(0,1)\n",
    "qc_qswap.h(2)\n",
    "qc_qswap.measure(2,0)\n",
    "print(qc_qswap.draw())"
   ]
  },
  {
   "cell_type": "code",
   "execution_count": 44,
   "id": "6fc25e03",
   "metadata": {},
   "outputs": [
    {
     "data": {
      "image/png": "[encoded data removed]",
      "text/plain": [
       "<Figure size 504x360 with 1 Axes>"
      ]
     },
     "execution_count": 44,
     "metadata": {},
     "output_type": "execute_result"
    }
   ],
   "source": [
    "sim = Aer.get_backend('aer_simulator') \n",
    "result = sim.run(qc_qswap).result()\n",
    "counts = result.get_counts()\n",
    "plot_histogram(counts)"
   ]
  },
  {
   "cell_type": "code",
   "execution_count": 48,
   "id": "6a03435c",
   "metadata": {},
   "outputs": [
    {
     "name": "stdout",
     "output_type": "stream",
     "text": [
      "{'0': 564, '1': 460}\n",
      "{'0': 523, '1': 501}\n",
      "{'0': 545, '1': 479}\n",
      "{'1': 492, '0': 532}\n",
      "{'1': 476, '0': 548}\n",
      "{'1': 484, '0': 540}\n",
      "{'1': 462, '0': 562}\n",
      "{'1': 458, '0': 566}\n",
      "{'0': 547, '1': 477}\n",
      "{'0': 521, '1': 503}\n",
      "{'0': 552, '1': 472}\n",
      "{'0': 525, '1': 499}\n",
      "{'0': 562, '1': 462}\n",
      "{'0': 568, '1': 456}\n",
      "{'1': 486, '0': 538}\n",
      "{'1': 448, '0': 576}\n",
      "{'1': 446, '0': 578}\n",
      "{'0': 581, '1': 443}\n",
      "{'0': 580, '1': 444}\n",
      "{'1': 503, '0': 521}\n",
      "{'1': 485, '0': 539}\n",
      "{'1': 493, '0': 531}\n",
      "{'1': 489, '0': 535}\n",
      "{'0': 559, '1': 465}\n",
      "{'0': 542, '1': 482}\n",
      "{'0': 547, '1': 477}\n",
      "{'0': 563, '1': 461}\n",
      "{'1': 491, '0': 533}\n",
      "{'0': 544, '1': 480}\n",
      "{'0': 561, '1': 463}\n",
      "{'1': 464, '0': 560}\n",
      "{'0': 572, '1': 452}\n",
      "{'1': 467, '0': 557}\n",
      "{'1': 446, '0': 578}\n",
      "{'1': 458, '0': 566}\n",
      "{'0': 549, '1': 475}\n",
      "{'1': 477, '0': 547}\n",
      "{'1': 449, '0': 575}\n",
      "{'0': 563, '1': 461}\n",
      "{'1': 471, '0': 553}\n",
      "{'1': 456, '0': 568}\n",
      "{'1': 460, '0': 564}\n",
      "{'0': 561, '1': 463}\n",
      "{'0': 578, '1': 446}\n",
      "{'1': 454, '0': 570}\n",
      "{'0': 567, '1': 457}\n",
      "{'0': 540, '1': 484}\n",
      "{'0': 567, '1': 457}\n",
      "{'1': 482, '0': 542}\n",
      "{'0': 547, '1': 477}\n",
      "{'0': 534, '1': 490}\n",
      "{'0': 552, '1': 472}\n",
      "{'1': 453, '0': 571}\n",
      "{'0': 552, '1': 472}\n",
      "{'0': 560, '1': 464}\n",
      "{'1': 462, '0': 562}\n",
      "{'1': 470, '0': 554}\n",
      "{'1': 467, '0': 557}\n",
      "{'0': 548, '1': 476}\n",
      "{'0': 518, '1': 506}\n",
      "{'0': 535, '1': 489}\n",
      "{'1': 499, '0': 525}\n",
      "{'1': 442, '0': 582}\n",
      "{'1': 463, '0': 561}\n",
      "{'1': 473, '0': 551}\n",
      "{'0': 584, '1': 440}\n",
      "{'1': 459, '0': 565}\n",
      "{'0': 549, '1': 475}\n",
      "{'1': 454, '0': 570}\n",
      "{'1': 495, '0': 529}\n",
      "{'1': 476, '0': 548}\n",
      "{'0': 561, '1': 463}\n",
      "{'1': 474, '0': 550}\n",
      "{'1': 481, '0': 543}\n",
      "{'0': 553, '1': 471}\n",
      "{'0': 544, '1': 480}\n",
      "{'1': 462, '0': 562}\n",
      "{'1': 471, '0': 553}\n",
      "{'1': 480, '0': 544}\n",
      "{'1': 475, '0': 549}\n",
      "{'0': 523, '1': 501}\n",
      "{'0': 529, '1': 495}\n",
      "{'0': 529, '1': 495}\n",
      "{'0': 538, '1': 486}\n",
      "{'0': 560, '1': 464}\n",
      "{'1': 485, '0': 539}\n",
      "{'1': 445, '0': 579}\n",
      "{'1': 491, '0': 533}\n",
      "{'1': 462, '0': 562}\n",
      "{'1': 471, '0': 553}\n",
      "{'1': 443, '0': 581}\n",
      "{'1': 465, '0': 559}\n",
      "{'1': 494, '0': 530}\n",
      "{'0': 542, '1': 482}\n",
      "{'1': 484, '0': 540}\n",
      "{'1': 489, '0': 535}\n",
      "{'0': 545, '1': 479}\n",
      "{'0': 547, '1': 477}\n",
      "{'1': 468, '0': 556}\n",
      "{'1': 475, '0': 549}\n",
      "55202 47198\n",
      "Inner product =  0.27957836557931304\n",
      "{'0': 55202, '1': 47198}\n"
     ]
    },
    {
     "data": {
      "image/png": "[encoded data removed]",
      "text/plain": [
       "<Figure size 504x360 with 1 Axes>"
      ]
     },
     "execution_count": 48,
     "metadata": {},
     "output_type": "execute_result"
    }
   ],
   "source": [
    "sim = Aer.get_backend('aer_simulator') \n",
    "tot_zero = 0\n",
    "tot_one = 0\n",
    "for i in range(100):\n",
    "    result = sim.run(qc_qswap).result()\n",
    "    counts = result.get_counts()\n",
    "    print(counts)\n",
    "    tot_zero+= counts['0']\n",
    "    tot_one+= counts['1']\n",
    "print(tot_zero,tot_one)\n",
    "counts = {'0':tot_zero,'1':tot_one}\n",
    "a = (tot_zero - tot_one)/(tot_zero + tot_one)\n",
    "if a<0 : \n",
    "    a = 0\n",
    "a = np.sqrt(a)\n",
    "print(\"Inner product = \",a)\n",
    "print(counts)\n",
    "plot_histogram(counts)"
   ]
  },
  {
   "cell_type": "code",
   "execution_count": null,
   "id": "049fd96d",
   "metadata": {},
   "outputs": [],
   "source": [
    "#Measuring in the bell basis gives the inner product directly in terms of the probability of obtaining the state \n",
    "#(|00>+|11>)/sqrt(2), more accurately, the probability of getting that bell state is half of the square of the inner\n",
    "#product. To measure in the bell basis, the following circuit can be applied."
   ]
  },
  {
   "cell_type": "code",
   "execution_count": 66,
   "id": "0eb9cdae",
   "metadata": {},
   "outputs": [
    {
     "name": "stdout",
     "output_type": "stream",
     "text": [
      "        ┌──────────────────────┐┌───┐      ░ ┌─┐   \n",
      "   q_0: ┤ Initialize(-0.6,0.8) ├┤ X ├──────░─┤M├───\n",
      "        ├─────────────────────┬┘└─┬─┘┌───┐ ░ └╥┘┌─┐\n",
      "   q_1: ┤ Initialize(0.6,0.8) ├───■──┤ H ├─░──╫─┤M├\n",
      "        └─────────────────────┘      └───┘ ░  ║ └╥┘\n",
      "meas: 2/══════════════════════════════════════╩══╩═\n",
      "                                              0  1 \n"
     ]
    }
   ],
   "source": [
    "qswap_bell = QuantumCircuit(2)\n",
    "qswap_bell.initialize([3/5,4/5], 1)\n",
    "qswap_bell.initialize([-3/5,4/5], 0)\n",
    "qswap_bell.cx(1,0)\n",
    "qswap_bell.h(1)\n",
    "qswap_bell.measure_all()\n",
    "print(qswap_bell.draw())"
   ]
  },
  {
   "cell_type": "code",
   "execution_count": 69,
   "id": "94e91050",
   "metadata": {},
   "outputs": [
    {
     "name": "stdout",
     "output_type": "stream",
     "text": [
      "{'00': 38, '11': 454, '10': 532}\n",
      "0.27568097504180444\n"
     ]
    },
    {
     "data": {
      "image/png": "[encoded data removed]",
      "text/plain": [
       "<Figure size 504x360 with 1 Axes>"
      ]
     },
     "execution_count": 69,
     "metadata": {},
     "output_type": "execute_result"
    }
   ],
   "source": [
    "qsim = Aer.get_backend('aer_simulator') \n",
    "result = qsim.run(qswap_bell).result()\n",
    "counts = result.get_counts()\n",
    "print(counts)\n",
    "print(np.sqrt(2*(counts['00'])/1000))\n",
    "plot_histogram(counts)"
   ]
  },
  {
   "cell_type": "code",
   "execution_count": null,
   "id": "211b5571",
   "metadata": {},
   "outputs": [],
   "source": []
  }
 ],
 "metadata": {
  "kernelspec": {
   "display_name": "Python 3 (ipykernel)",
   "language": "python",
   "name": "python3"
  },
  "language_info": {
   "codemirror_mode": {
    "name": "ipython",
    "version": 3
   },
   "file_extension": ".py",
   "mimetype": "text/x-python",
   "name": "python",
   "nbconvert_exporter": "python",
   "pygments_lexer": "ipython3",
   "version": "3.9.12"
  }
 },
 "nbformat": 4,
 "nbformat_minor": 5
}
