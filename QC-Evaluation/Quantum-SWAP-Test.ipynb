{
 "cells": [
  {
   "cell_type": "code",
   "execution_count": 2,
   "id": "7a81a31e",
   "metadata": {},
   "outputs": [],
   "source": [
    "import numpy as np\n",
    "from qiskit import QuantumCircuit, assemble, Aer\n",
    "from qiskit.visualization import plot_histogram, plot_bloch_vector, array_to_latex\n",
    "from math import sqrt, pi\n",
    "from IPython.display import display, Math\n"
   ]
  },
  {
   "cell_type": "code",
   "execution_count": 3,
   "id": "55bb87c4",
   "metadata": {},
   "outputs": [
    {
     "data": {
      "image/png": "[encoded data removed]",
      "text/plain": [
       "<Figure size 267.197x204.68 with 1 Axes>"
      ]
     },
     "execution_count": 3,
     "metadata": {},
     "output_type": "execute_result"
    }
   ],
   "source": [
    "qc_cswap = QuantumCircuit(3)\n",
    "qc_cswap.cx(0,1)\n",
    "qc_cswap.ccx(2,1,0)\n",
    "qc_cswap.cx(0,1)\n",
    "qc_cswap.draw('mpl')"
   ]
  },
  {
   "cell_type": "code",
   "execution_count": 4,
   "id": "74d21533",
   "metadata": {
    "scrolled": true
   },
   "outputs": [
    {
     "name": "stdout",
     "output_type": "stream",
     "text": [
      "Figure(267.197x204.68)\n"
     ]
    },
    {
     "data": {
      "text/latex": [
       "$$\n",
       "\\text{Circuit = }\n",
       "\n",
       "\\begin{bmatrix}\n",
       "1 & 0 & 0 & 0 & 0 & 0 & 0 & 0  \\\\\n",
       " 0 & 1 & 0 & 0 & 0 & 0 & 0 & 0  \\\\\n",
       " 0 & 0 & 1 & 0 & 0 & 0 & 0 & 0  \\\\\n",
       " 0 & 0 & 0 & 1 & 0 & 0 & 0 & 0  \\\\\n",
       " 0 & 0 & 0 & 0 & 1 & 0 & 0 & 0  \\\\\n",
       " 0 & 0 & 0 & 0 & 0 & 0 & 1 & 0  \\\\\n",
       " 0 & 0 & 0 & 0 & 0 & 1 & 0 & 0  \\\\\n",
       " 0 & 0 & 0 & 0 & 0 & 0 & 0 & 1  \\\\\n",
       " \\end{bmatrix}\n",
       "$$"
      ],
      "text/plain": [
       "<IPython.core.display.Latex object>"
      ]
     },
     "metadata": {},
     "output_type": "display_data"
    }
   ],
   "source": [
    "#CSWAP operation (order is inverted because of qiskit's system, the circuit gate is still the same)\n",
    "qc_cswap = QuantumCircuit(3)\n",
    "qc_cswap.cx(0,1)\n",
    "qc_cswap.ccx(2,1,0)\n",
    "qc_cswap.cx(0,1)\n",
    "print(qc_cswap.draw('mpl'))\n",
    "usim = Aer.get_backend('aer_simulator')\n",
    "qc_cswap.save_unitary()\n",
    "qobj = assemble(qc_cswap)\n",
    "unitary = usim.run(qobj).result().get_unitary()\n",
    "display(array_to_latex(unitary, prefix=\"\\\\text{Circuit = }\\n\"))"
   ]
  },
  {
   "cell_type": "code",
   "execution_count": null,
   "id": "436eb580",
   "metadata": {},
   "outputs": [],
   "source": []
  },
  {
   "cell_type": "code",
   "execution_count": 5,
   "id": "8d7cf647",
   "metadata": {},
   "outputs": [],
   "source": [
    "#The inner product is estimated by the probability of measuring 0 from the ancilla qubit. The probability of measuring \n",
    "#a 0 can be calculated to be (1 + (inner product)**2)/2 , therefore, by running the experiment a sufficiently large\n",
    "#number of times, you can get the square of the inner product. Determining the sign should be possible by inspection,\n",
    "#so you''ll have a value for the inner product with sign."
   ]
  },
  {
   "cell_type": "code",
   "execution_count": 7,
   "id": "276c690c",
   "metadata": {},
   "outputs": [
    {
     "data": {
      "image/png": "[encoded data removed]",
      "text/plain": [
       "<Figure size 447.797x264.88 with 1 Axes>"
      ]
     },
     "execution_count": 7,
     "metadata": {},
     "output_type": "execute_result"
    }
   ],
   "source": [
    "qc_qswap = QuantumCircuit(3,1)\n",
    "qc_qswap.initialize([1,0], 2)\n",
    "qc_qswap.initialize([3/5,4/5], 1)\n",
    "qc_qswap.initialize([-3/5,4/5], 0)\n",
    "qc_qswap.h(2)\n",
    "qc_qswap.cx(0,1)\n",
    "qc_qswap.ccx(2,1,0)\n",
    "qc_qswap.cx(0,1)\n",
    "qc_qswap.h(2)\n",
    "qc_qswap.measure(2,0)\n",
    "(qc_qswap.draw('mpl'))"
   ]
  },
  {
   "cell_type": "code",
   "execution_count": 8,
   "id": "6fc25e03",
   "metadata": {},
   "outputs": [
    {
     "data": {
      "image/png": "[encoded data removed]",
      "text/plain": [
       "<Figure size 504x360 with 1 Axes>"
      ]
     },
     "execution_count": 8,
     "metadata": {},
     "output_type": "execute_result"
    }
   ],
   "source": [
    "sim = Aer.get_backend('aer_simulator') \n",
    "result = sim.run(qc_qswap).result()\n",
    "counts = result.get_counts()\n",
    "plot_histogram(counts)"
   ]
  },
  {
   "cell_type": "code",
   "execution_count": 9,
   "id": "6a03435c",
   "metadata": {},
   "outputs": [
    {
     "name": "stdout",
     "output_type": "stream",
     "text": [
      "{'0': 554, '1': 470}\n",
      "{'0': 536, '1': 488}\n",
      "{'0': 571, '1': 453}\n",
      "{'1': 482, '0': 542}\n",
      "{'1': 493, '0': 531}\n",
      "{'0': 548, '1': 476}\n",
      "{'1': 519, '0': 505}\n",
      "{'0': 520, '1': 504}\n",
      "{'0': 568, '1': 456}\n",
      "{'0': 567, '1': 457}\n",
      "{'1': 457, '0': 567}\n",
      "{'1': 480, '0': 544}\n",
      "{'1': 477, '0': 547}\n",
      "{'0': 548, '1': 476}\n",
      "{'1': 453, '0': 571}\n",
      "{'0': 544, '1': 480}\n",
      "{'0': 538, '1': 486}\n",
      "{'0': 555, '1': 469}\n",
      "{'0': 568, '1': 456}\n",
      "{'1': 443, '0': 581}\n",
      "{'0': 516, '1': 508}\n",
      "{'0': 537, '1': 487}\n",
      "{'0': 538, '1': 486}\n",
      "{'0': 552, '1': 472}\n",
      "{'1': 489, '0': 535}\n",
      "{'1': 446, '0': 578}\n",
      "{'0': 565, '1': 459}\n",
      "{'1': 437, '0': 587}\n",
      "{'0': 524, '1': 500}\n",
      "{'1': 500, '0': 524}\n",
      "{'0': 524, '1': 500}\n",
      "{'1': 499, '0': 525}\n",
      "{'0': 542, '1': 482}\n",
      "{'0': 543, '1': 481}\n",
      "{'0': 527, '1': 497}\n",
      "{'0': 541, '1': 483}\n",
      "{'0': 553, '1': 471}\n",
      "{'1': 478, '0': 546}\n",
      "{'0': 581, '1': 443}\n",
      "{'0': 504, '1': 520}\n",
      "{'0': 574, '1': 450}\n",
      "{'0': 533, '1': 491}\n",
      "{'1': 462, '0': 562}\n",
      "{'1': 454, '0': 570}\n",
      "{'1': 487, '0': 537}\n",
      "{'1': 472, '0': 552}\n",
      "{'0': 527, '1': 497}\n",
      "{'1': 479, '0': 545}\n",
      "{'1': 466, '0': 558}\n",
      "{'1': 456, '0': 568}\n",
      "{'1': 472, '0': 552}\n",
      "{'1': 468, '0': 556}\n",
      "{'0': 525, '1': 499}\n",
      "{'1': 493, '0': 531}\n",
      "{'1': 487, '0': 537}\n",
      "{'1': 452, '0': 572}\n",
      "{'1': 481, '0': 543}\n",
      "{'1': 453, '0': 571}\n",
      "{'1': 486, '0': 538}\n",
      "{'0': 566, '1': 458}\n",
      "{'0': 573, '1': 451}\n",
      "{'0': 556, '1': 468}\n",
      "{'0': 551, '1': 473}\n",
      "{'1': 463, '0': 561}\n",
      "{'1': 474, '0': 550}\n",
      "{'1': 473, '0': 551}\n",
      "{'0': 514, '1': 510}\n",
      "{'0': 554, '1': 470}\n",
      "{'0': 547, '1': 477}\n",
      "{'1': 478, '0': 546}\n",
      "{'1': 479, '0': 545}\n",
      "{'1': 491, '0': 533}\n",
      "{'1': 454, '0': 570}\n",
      "{'1': 489, '0': 535}\n",
      "{'0': 504, '1': 520}\n",
      "{'0': 551, '1': 473}\n",
      "{'1': 486, '0': 538}\n",
      "{'1': 461, '0': 563}\n",
      "{'0': 567, '1': 457}\n",
      "{'0': 558, '1': 466}\n",
      "{'1': 483, '0': 541}\n",
      "{'0': 545, '1': 479}\n",
      "{'0': 540, '1': 484}\n",
      "{'1': 470, '0': 554}\n",
      "{'0': 554, '1': 470}\n",
      "{'1': 435, '0': 589}\n",
      "{'0': 529, '1': 495}\n",
      "{'1': 483, '0': 541}\n",
      "{'1': 468, '0': 556}\n",
      "{'0': 559, '1': 465}\n",
      "{'0': 570, '1': 454}\n",
      "{'1': 468, '0': 556}\n",
      "{'1': 458, '0': 566}\n",
      "{'1': 472, '0': 552}\n",
      "{'1': 459, '0': 565}\n",
      "{'0': 576, '1': 448}\n",
      "{'1': 469, '0': 555}\n",
      "{'0': 537, '1': 487}\n",
      "{'1': 447, '0': 577}\n",
      "{'1': 474, '0': 550}\n",
      "54943 47457\n",
      "Inner product =  0.2703802299540408\n",
      "{'0': 54943, '1': 47457}\n"
     ]
    },
    {
     "data": {
      "image/png": "[encoded data removed]",
      "text/plain": [
       "<Figure size 504x360 with 1 Axes>"
      ]
     },
     "execution_count": 9,
     "metadata": {},
     "output_type": "execute_result"
    }
   ],
   "source": [
    "sim = Aer.get_backend('aer_simulator') \n",
    "tot_zero = 0\n",
    "tot_one = 0\n",
    "for i in range(100):\n",
    "    result = sim.run(qc_qswap).result()\n",
    "    counts = result.get_counts()\n",
    "    print(counts)\n",
    "    tot_zero+= counts['0']\n",
    "    tot_one+= counts['1']\n",
    "print(tot_zero,tot_one)\n",
    "counts = {'0':tot_zero,'1':tot_one}\n",
    "a = (tot_zero - tot_one)/(tot_zero + tot_one)\n",
    "if a<0 : \n",
    "    a = 0\n",
    "a = np.sqrt(a)\n",
    "print(\"Inner product = \",a)\n",
    "print(counts)\n",
    "plot_histogram(counts)"
   ]
  },
  {
   "cell_type": "code",
   "execution_count": 10,
   "id": "049fd96d",
   "metadata": {},
   "outputs": [],
   "source": [
    "#Measuring in the bell basis gives the inner product directly in terms of the probability of obtaining the state \n",
    "#(|00>+|11>)/sqrt(2), more accurately, the probability of getting that bell state is half of the square of the inner\n",
    "#product. To measure in the bell basis, the following circuit can be applied."
   ]
  },
  {
   "cell_type": "code",
   "execution_count": 11,
   "id": "0eb9cdae",
   "metadata": {},
   "outputs": [
    {
     "name": "stdout",
     "output_type": "stream",
     "text": [
      "        ┌─────────────────┐┌───┐      ░ ┌─┐   \n",
      "   q_0: ┤ Initialize(0,1) ├┤ X ├──────░─┤M├───\n",
      "        ├─────────────────┤└─┬─┘┌───┐ ░ └╥┘┌─┐\n",
      "   q_1: ┤ Initialize(1,0) ├──■──┤ H ├─░──╫─┤M├\n",
      "        └─────────────────┘     └───┘ ░  ║ └╥┘\n",
      "meas: 2/═════════════════════════════════╩══╩═\n",
      "                                         0  1 \n"
     ]
    }
   ],
   "source": [
    "qswap_bell = QuantumCircuit(2)\n",
    "qswap_bell.initialize([1,0], 1)\n",
    "qswap_bell.initialize([0,1], 0)\n",
    "qswap_bell.cx(1,0)\n",
    "qswap_bell.h(1)\n",
    "qswap_bell.measure_all()\n",
    "print(qswap_bell.draw())"
   ]
  },
  {
   "cell_type": "code",
   "execution_count": 13,
   "id": "94e91050",
   "metadata": {},
   "outputs": [
    {
     "name": "stdout",
     "output_type": "stream",
     "text": [
      "0.015309310892395154\n"
     ]
    }
   ],
   "source": [
    "total_counts = 0\n",
    "total_counts_11 = 0\n",
    "for i in range(100):    \n",
    "    qsim = Aer.get_backend('aer_simulator') \n",
    "    result = qsim.run(qswap_bell).result()\n",
    "    counts = result.get_counts()\n",
    "    for i in counts:\n",
    "        total_counts+= counts[i]\n",
    "    total_counts_11+=counts['11']\n",
    "a = ((1 - 2*(total_counts_11/total_counts)))\n",
    "if a<0:\n",
    "    a = 0\n",
    "a = np.sqrt(a)\n",
    "print(a)"
   ]
  },
  {
   "cell_type": "code",
   "execution_count": 15,
   "id": "211b5571",
   "metadata": {},
   "outputs": [
    {
     "data": {
      "text/plain": [
       "0.2097617696340304"
      ]
     },
     "execution_count": 15,
     "metadata": {},
     "output_type": "execute_result"
    }
   ],
   "source": []
  },
  {
   "cell_type": "code",
   "execution_count": 77,
   "id": "79083ab1",
   "metadata": {},
   "outputs": [
    {
     "data": {
      "text/plain": [
       "0.24899799195977465"
      ]
     },
     "execution_count": 77,
     "metadata": {},
     "output_type": "execute_result"
    }
   ],
   "source": []
  },
  {
   "cell_type": "code",
   "execution_count": null,
   "id": "5c1b22f5",
   "metadata": {},
   "outputs": [],
   "source": []
  }
 ],
 "metadata": {
  "kernelspec": {
   "display_name": "Python 3 (ipykernel)",
   "language": "python",
   "name": "python3"
  },
  "language_info": {
   "codemirror_mode": {
    "name": "ipython",
    "version": 3
   },
   "file_extension": ".py",
   "mimetype": "text/x-python",
   "name": "python",
   "nbconvert_exporter": "python",
   "pygments_lexer": "ipython3",
   "version": "3.9.12"
  }
 },
 "nbformat": 4,
 "nbformat_minor": 5
}
