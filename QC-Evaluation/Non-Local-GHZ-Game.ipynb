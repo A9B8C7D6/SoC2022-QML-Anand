{
 "cells": [
  {
   "cell_type": "markdown",
   "id": "ea9007e8",
   "metadata": {},
   "source": [
    "## Classical Case\n",
    "\n",
    "Here, each player takes their decision independently. Let's call the three players A, B, C and let's call the function that decides their returned qubit by l,m,n. The inputs to the functions are only 0 and 1. \n",
    "\n",
    "We observe that there are only 4 cases possible for the qubits $r,s,t$ : $000,011,101,110$. For the first case, $r \\vee s \\vee t = 0$ and for the rest, it's 1. Let's form 4 equations, for the 4 cases we have to consider : \n",
    "\n",
    "\\begin{align*}\n",
    "    l(0) \\oplus m(0) \\oplus n(0) &= 0 \\\\\n",
    "    l(0) \\oplus m(1) \\oplus n(1) &= 1 \\\\\n",
    "    l(1) \\oplus m(0) \\oplus n(1) &= 1 \\\\\n",
    "    l(1) \\oplus m(1) \\oplus n(0) &= 1 \n",
    "\\end{align*}\n",
    "\n",
    "We see that if we add up all the equations modulo 2, we get terms involving $a \\oplus a$, which is obviously $0$. Therefore, the left hand side is 0. The right hand side, however, is 1, so clearly, atleast 1 equation is inconsistent. To prove that 3 out of the 4 equations can be simultaneously satisfied, we take the case where A,B and C always give 1 to the referee. The last three equations are true, but the first isn't. Therefore, the best possible scenario is when 3 out of the 4 cases are covered, hence 75%"
   ]
  },
  {
   "cell_type": "markdown",
   "id": "98234716",
   "metadata": {},
   "source": [
    "## Quantum Case\n",
    "\n",
    "Here, it's pretty straightforward if the three players entangle their qubits in the state\n",
    "\n",
    "$$ |\\Psi \\rangle = \\frac{1}{2}\\left(|000 \\rangle - |011 \\rangle - |101 \\rangle - 110 \\rangle \\right) $$. It makes sense to choose such a state as they literally have all the basis elements that correspond to the allowed values of $r,s,t$.\n",
    "\n",
    "Depending on the qubits received by each person, we need to make it possible to convert this state into states which on measuring, give you three bits that satisfy the condition. "
   ]
  },
  {
   "cell_type": "markdown",
   "id": "112531a6",
   "metadata": {},
   "source": [
    "Let's look at the $r,s,t = 0,0,0$ case, which will be satisfied if there is an even number of 1s. Look at the state $|\\Psi \\rangle$ and notice how convenient it is that all the possible post measurement states have an even number of 1s. Therefore, let's keep this in mind, while trying to develop a general strategy.\n",
    "\n",
    "Without loss of generality (by symmetry) let's analyze the case where $r,s,t = 1,1,0$. Let's keep in mind that for the previous case, if a person gets a 0 bit, measuring in the computational basis is a possibility. Let's try to modify the first two qubits alone then, to get us a state in a superposition of basis states, all of which have odd 1s (Since the output has to be 1, and the operation is XOR). \n",
    "\n",
    "So the first thing that comes to mind is a NOT operation, an X gate on one of the qubits, since that reverses the parity (which is what we need here). However, we can't disturb the third bit here, and the ideal thing would be to apply an X gate to any one of the other two. However, we'll have to decide which player applies the not gate, and the problem is, there is no way to decide that before the players get their bits from the referee, since the \"first two\" (in this example, atleast) people don't really know that it's the third one that has the 0 bit. So they can't co-ordinate on who does the NOT operation, so that's out of the window.\n",
    "\n",
    "Exploring other options, we arrive at the Hadamard operation. We find out that doing it on both the first two qubits gives us something interesting. (Note that there is no ambiguity as to who has to perform this operation, since whoever has a 1, will perform a Hadamard operation on their respective qubit)\n",
    "\n",
    "$$\\frac{1}{2}\\left(-|001 \\rangle + |010 \\rangle + |100 \\rangle + |111 \\rangle \\right) $$ is the output of the operation, and how beautiful! We see that all the states have an odd number of 1s, just like we wanted! All that's left to do is for each of the three to measure with respect to the computational basis, and you will get a solution to the case! \n",
    "\n",
    "The other two cases follow the same procedure, just that instead of the first two applying the Hadamard Transform on their respective qubits, the people that got a bit with value 1 must apply the transform and then all three must measure wrt the Computational Basis."
   ]
  },
  {
   "cell_type": "markdown",
   "id": "9a0f923b",
   "metadata": {},
   "source": [
    "In short : Form the entangled state shown above. If a player gets a 0, he/she must measure his/her qubit with respect to the computational basis. If a player gets a 1, then he/she must perform a Hadamard Transform on his/her qubit and then measure it wrt the computational basis!"
   ]
  },
  {
   "cell_type": "code",
   "execution_count": null,
   "id": "c1223565",
   "metadata": {},
   "outputs": [],
   "source": []
  }
 ],
 "metadata": {
  "kernelspec": {
   "display_name": "Python 3 (ipykernel)",
   "language": "python",
   "name": "python3"
  },
  "language_info": {
   "codemirror_mode": {
    "name": "ipython",
    "version": 3
   },
   "file_extension": ".py",
   "mimetype": "text/x-python",
   "name": "python",
   "nbconvert_exporter": "python",
   "pygments_lexer": "ipython3",
   "version": "3.9.12"
  }
 },
 "nbformat": 4,
 "nbformat_minor": 5
}
